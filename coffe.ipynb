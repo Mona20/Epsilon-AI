{
 "cells": [
  {
   "cell_type": "code",
   "execution_count": 1,
   "metadata": {},
   "outputs": [],
   "source": [
    "#import libraries\n",
    "import pandas as pd\n",
    "import numpy as np\n",
    "import matplotlib.pyplot as plt\n",
    "import seaborn as sns\n",
    "%matplotlib inline"
   ]
  },
  {
   "cell_type": "code",
   "execution_count": 2,
   "metadata": {},
   "outputs": [],
   "source": [
    "#collecting data"
   ]
  },
  {
   "cell_type": "code",
   "execution_count": 3,
   "metadata": {},
   "outputs": [],
   "source": [
    "df1=pd.read_csv('arabica.csv')\n",
    "df2=pd.read_csv('robusta.csv')\n",
    "coffe=pd.concat([df1,df2])"
   ]
  },
  {
   "cell_type": "code",
   "execution_count": 4,
   "metadata": {},
   "outputs": [
    {
     "data": {
      "text/html": [
       "<div>\n",
       "<style scoped>\n",
       "    .dataframe tbody tr th:only-of-type {\n",
       "        vertical-align: middle;\n",
       "    }\n",
       "\n",
       "    .dataframe tbody tr th {\n",
       "        vertical-align: top;\n",
       "    }\n",
       "\n",
       "    .dataframe thead th {\n",
       "        text-align: right;\n",
       "    }\n",
       "</style>\n",
       "<table border=\"1\" class=\"dataframe\">\n",
       "  <thead>\n",
       "    <tr style=\"text-align: right;\">\n",
       "      <th></th>\n",
       "      <th>Unnamed: 0</th>\n",
       "      <th>Species</th>\n",
       "      <th>Owner</th>\n",
       "      <th>Country.of.Origin</th>\n",
       "      <th>Farm.Name</th>\n",
       "      <th>Lot.Number</th>\n",
       "      <th>Mill</th>\n",
       "      <th>ICO.Number</th>\n",
       "      <th>Company</th>\n",
       "      <th>Altitude</th>\n",
       "      <th>Region</th>\n",
       "      <th>Producer</th>\n",
       "      <th>Number.of.Bags</th>\n",
       "      <th>Bag.Weight</th>\n",
       "      <th>In.Country.Partner</th>\n",
       "      <th>Harvest.Year</th>\n",
       "      <th>Grading.Date</th>\n",
       "      <th>Owner.1</th>\n",
       "      <th>Variety</th>\n",
       "      <th>Processing.Method</th>\n",
       "      <th>Aroma</th>\n",
       "      <th>Flavor</th>\n",
       "      <th>Aftertaste</th>\n",
       "      <th>Acidity</th>\n",
       "      <th>Body</th>\n",
       "      <th>Balance</th>\n",
       "      <th>Uniformity</th>\n",
       "      <th>Clean.Cup</th>\n",
       "      <th>Sweetness</th>\n",
       "      <th>Cupper.Points</th>\n",
       "      <th>Total.Cup.Points</th>\n",
       "      <th>Moisture</th>\n",
       "      <th>Category.One.Defects</th>\n",
       "      <th>Quakers</th>\n",
       "      <th>Color</th>\n",
       "      <th>Category.Two.Defects</th>\n",
       "      <th>Expiration</th>\n",
       "      <th>Certification.Body</th>\n",
       "      <th>Certification.Address</th>\n",
       "      <th>Certification.Contact</th>\n",
       "      <th>unit_of_measurement</th>\n",
       "      <th>altitude_low_meters</th>\n",
       "      <th>altitude_high_meters</th>\n",
       "      <th>altitude_mean_meters</th>\n",
       "      <th>Fragrance...Aroma</th>\n",
       "      <th>Salt...Acid</th>\n",
       "      <th>Bitter...Sweet</th>\n",
       "      <th>Mouthfeel</th>\n",
       "      <th>Uniform.Cup</th>\n",
       "    </tr>\n",
       "  </thead>\n",
       "  <tbody>\n",
       "    <tr>\n",
       "      <th>0</th>\n",
       "      <td>1</td>\n",
       "      <td>Arabica</td>\n",
       "      <td>metad plc</td>\n",
       "      <td>Ethiopia</td>\n",
       "      <td>metad plc</td>\n",
       "      <td>NaN</td>\n",
       "      <td>metad plc</td>\n",
       "      <td>2014/2015</td>\n",
       "      <td>metad agricultural developmet plc</td>\n",
       "      <td>1950-2200</td>\n",
       "      <td>guji-hambela</td>\n",
       "      <td>METAD PLC</td>\n",
       "      <td>300</td>\n",
       "      <td>60 kg</td>\n",
       "      <td>METAD Agricultural Development plc</td>\n",
       "      <td>2014</td>\n",
       "      <td>April 4th, 2015</td>\n",
       "      <td>metad plc</td>\n",
       "      <td>NaN</td>\n",
       "      <td>Washed / Wet</td>\n",
       "      <td>8.67</td>\n",
       "      <td>8.83</td>\n",
       "      <td>8.67</td>\n",
       "      <td>8.75</td>\n",
       "      <td>8.50</td>\n",
       "      <td>8.42</td>\n",
       "      <td>10.0</td>\n",
       "      <td>10.0</td>\n",
       "      <td>10.0</td>\n",
       "      <td>8.75</td>\n",
       "      <td>90.58</td>\n",
       "      <td>0.12</td>\n",
       "      <td>0</td>\n",
       "      <td>0.0</td>\n",
       "      <td>Green</td>\n",
       "      <td>0</td>\n",
       "      <td>April 3rd, 2016</td>\n",
       "      <td>METAD Agricultural Development plc</td>\n",
       "      <td>309fcf77415a3661ae83e027f7e5f05dad786e44</td>\n",
       "      <td>19fef5a731de2db57d16da10287413f5f99bc2dd</td>\n",
       "      <td>m</td>\n",
       "      <td>1950.0</td>\n",
       "      <td>2200.0</td>\n",
       "      <td>2075.0</td>\n",
       "      <td>NaN</td>\n",
       "      <td>NaN</td>\n",
       "      <td>NaN</td>\n",
       "      <td>NaN</td>\n",
       "      <td>NaN</td>\n",
       "    </tr>\n",
       "    <tr>\n",
       "      <th>1</th>\n",
       "      <td>2</td>\n",
       "      <td>Arabica</td>\n",
       "      <td>metad plc</td>\n",
       "      <td>Ethiopia</td>\n",
       "      <td>metad plc</td>\n",
       "      <td>NaN</td>\n",
       "      <td>metad plc</td>\n",
       "      <td>2014/2015</td>\n",
       "      <td>metad agricultural developmet plc</td>\n",
       "      <td>1950-2200</td>\n",
       "      <td>guji-hambela</td>\n",
       "      <td>METAD PLC</td>\n",
       "      <td>300</td>\n",
       "      <td>60 kg</td>\n",
       "      <td>METAD Agricultural Development plc</td>\n",
       "      <td>2014</td>\n",
       "      <td>April 4th, 2015</td>\n",
       "      <td>metad plc</td>\n",
       "      <td>Other</td>\n",
       "      <td>Washed / Wet</td>\n",
       "      <td>8.75</td>\n",
       "      <td>8.67</td>\n",
       "      <td>8.50</td>\n",
       "      <td>8.58</td>\n",
       "      <td>8.42</td>\n",
       "      <td>8.42</td>\n",
       "      <td>10.0</td>\n",
       "      <td>10.0</td>\n",
       "      <td>10.0</td>\n",
       "      <td>8.58</td>\n",
       "      <td>89.92</td>\n",
       "      <td>0.12</td>\n",
       "      <td>0</td>\n",
       "      <td>0.0</td>\n",
       "      <td>Green</td>\n",
       "      <td>1</td>\n",
       "      <td>April 3rd, 2016</td>\n",
       "      <td>METAD Agricultural Development plc</td>\n",
       "      <td>309fcf77415a3661ae83e027f7e5f05dad786e44</td>\n",
       "      <td>19fef5a731de2db57d16da10287413f5f99bc2dd</td>\n",
       "      <td>m</td>\n",
       "      <td>1950.0</td>\n",
       "      <td>2200.0</td>\n",
       "      <td>2075.0</td>\n",
       "      <td>NaN</td>\n",
       "      <td>NaN</td>\n",
       "      <td>NaN</td>\n",
       "      <td>NaN</td>\n",
       "      <td>NaN</td>\n",
       "    </tr>\n",
       "    <tr>\n",
       "      <th>2</th>\n",
       "      <td>3</td>\n",
       "      <td>Arabica</td>\n",
       "      <td>grounds for health admin</td>\n",
       "      <td>Guatemala</td>\n",
       "      <td>san marcos barrancas \"san cristobal cuch</td>\n",
       "      <td>NaN</td>\n",
       "      <td>NaN</td>\n",
       "      <td>NaN</td>\n",
       "      <td>NaN</td>\n",
       "      <td>1600 - 1800 m</td>\n",
       "      <td>NaN</td>\n",
       "      <td>NaN</td>\n",
       "      <td>5</td>\n",
       "      <td>1</td>\n",
       "      <td>Specialty Coffee Association</td>\n",
       "      <td>NaN</td>\n",
       "      <td>May 31st, 2010</td>\n",
       "      <td>Grounds for Health Admin</td>\n",
       "      <td>Bourbon</td>\n",
       "      <td>NaN</td>\n",
       "      <td>8.42</td>\n",
       "      <td>8.50</td>\n",
       "      <td>8.42</td>\n",
       "      <td>8.42</td>\n",
       "      <td>8.33</td>\n",
       "      <td>8.42</td>\n",
       "      <td>10.0</td>\n",
       "      <td>10.0</td>\n",
       "      <td>10.0</td>\n",
       "      <td>9.25</td>\n",
       "      <td>89.75</td>\n",
       "      <td>0.00</td>\n",
       "      <td>0</td>\n",
       "      <td>0.0</td>\n",
       "      <td>NaN</td>\n",
       "      <td>0</td>\n",
       "      <td>May 31st, 2011</td>\n",
       "      <td>Specialty Coffee Association</td>\n",
       "      <td>36d0d00a3724338ba7937c52a378d085f2172daa</td>\n",
       "      <td>0878a7d4b9d35ddbf0fe2ce69a2062cceb45a660</td>\n",
       "      <td>m</td>\n",
       "      <td>1600.0</td>\n",
       "      <td>1800.0</td>\n",
       "      <td>1700.0</td>\n",
       "      <td>NaN</td>\n",
       "      <td>NaN</td>\n",
       "      <td>NaN</td>\n",
       "      <td>NaN</td>\n",
       "      <td>NaN</td>\n",
       "    </tr>\n",
       "    <tr>\n",
       "      <th>3</th>\n",
       "      <td>4</td>\n",
       "      <td>Arabica</td>\n",
       "      <td>yidnekachew dabessa</td>\n",
       "      <td>Ethiopia</td>\n",
       "      <td>yidnekachew dabessa coffee plantation</td>\n",
       "      <td>NaN</td>\n",
       "      <td>wolensu</td>\n",
       "      <td>NaN</td>\n",
       "      <td>yidnekachew debessa coffee plantation</td>\n",
       "      <td>1800-2200</td>\n",
       "      <td>oromia</td>\n",
       "      <td>Yidnekachew Dabessa Coffee Plantation</td>\n",
       "      <td>320</td>\n",
       "      <td>60 kg</td>\n",
       "      <td>METAD Agricultural Development plc</td>\n",
       "      <td>2014</td>\n",
       "      <td>March 26th, 2015</td>\n",
       "      <td>Yidnekachew Dabessa</td>\n",
       "      <td>NaN</td>\n",
       "      <td>Natural / Dry</td>\n",
       "      <td>8.17</td>\n",
       "      <td>8.58</td>\n",
       "      <td>8.42</td>\n",
       "      <td>8.42</td>\n",
       "      <td>8.50</td>\n",
       "      <td>8.25</td>\n",
       "      <td>10.0</td>\n",
       "      <td>10.0</td>\n",
       "      <td>10.0</td>\n",
       "      <td>8.67</td>\n",
       "      <td>89.00</td>\n",
       "      <td>0.11</td>\n",
       "      <td>0</td>\n",
       "      <td>0.0</td>\n",
       "      <td>Green</td>\n",
       "      <td>2</td>\n",
       "      <td>March 25th, 2016</td>\n",
       "      <td>METAD Agricultural Development plc</td>\n",
       "      <td>309fcf77415a3661ae83e027f7e5f05dad786e44</td>\n",
       "      <td>19fef5a731de2db57d16da10287413f5f99bc2dd</td>\n",
       "      <td>m</td>\n",
       "      <td>1800.0</td>\n",
       "      <td>2200.0</td>\n",
       "      <td>2000.0</td>\n",
       "      <td>NaN</td>\n",
       "      <td>NaN</td>\n",
       "      <td>NaN</td>\n",
       "      <td>NaN</td>\n",
       "      <td>NaN</td>\n",
       "    </tr>\n",
       "    <tr>\n",
       "      <th>4</th>\n",
       "      <td>5</td>\n",
       "      <td>Arabica</td>\n",
       "      <td>metad plc</td>\n",
       "      <td>Ethiopia</td>\n",
       "      <td>metad plc</td>\n",
       "      <td>NaN</td>\n",
       "      <td>metad plc</td>\n",
       "      <td>2014/2015</td>\n",
       "      <td>metad agricultural developmet plc</td>\n",
       "      <td>1950-2200</td>\n",
       "      <td>guji-hambela</td>\n",
       "      <td>METAD PLC</td>\n",
       "      <td>300</td>\n",
       "      <td>60 kg</td>\n",
       "      <td>METAD Agricultural Development plc</td>\n",
       "      <td>2014</td>\n",
       "      <td>April 4th, 2015</td>\n",
       "      <td>metad plc</td>\n",
       "      <td>Other</td>\n",
       "      <td>Washed / Wet</td>\n",
       "      <td>8.25</td>\n",
       "      <td>8.50</td>\n",
       "      <td>8.25</td>\n",
       "      <td>8.50</td>\n",
       "      <td>8.42</td>\n",
       "      <td>8.33</td>\n",
       "      <td>10.0</td>\n",
       "      <td>10.0</td>\n",
       "      <td>10.0</td>\n",
       "      <td>8.58</td>\n",
       "      <td>88.83</td>\n",
       "      <td>0.12</td>\n",
       "      <td>0</td>\n",
       "      <td>0.0</td>\n",
       "      <td>Green</td>\n",
       "      <td>2</td>\n",
       "      <td>April 3rd, 2016</td>\n",
       "      <td>METAD Agricultural Development plc</td>\n",
       "      <td>309fcf77415a3661ae83e027f7e5f05dad786e44</td>\n",
       "      <td>19fef5a731de2db57d16da10287413f5f99bc2dd</td>\n",
       "      <td>m</td>\n",
       "      <td>1950.0</td>\n",
       "      <td>2200.0</td>\n",
       "      <td>2075.0</td>\n",
       "      <td>NaN</td>\n",
       "      <td>NaN</td>\n",
       "      <td>NaN</td>\n",
       "      <td>NaN</td>\n",
       "      <td>NaN</td>\n",
       "    </tr>\n",
       "  </tbody>\n",
       "</table>\n",
       "</div>"
      ],
      "text/plain": [
       "   Unnamed: 0  Species                     Owner Country.of.Origin  \\\n",
       "0           1  Arabica                 metad plc          Ethiopia   \n",
       "1           2  Arabica                 metad plc          Ethiopia   \n",
       "2           3  Arabica  grounds for health admin         Guatemala   \n",
       "3           4  Arabica       yidnekachew dabessa          Ethiopia   \n",
       "4           5  Arabica                 metad plc          Ethiopia   \n",
       "\n",
       "                                  Farm.Name Lot.Number       Mill ICO.Number  \\\n",
       "0                                 metad plc        NaN  metad plc  2014/2015   \n",
       "1                                 metad plc        NaN  metad plc  2014/2015   \n",
       "2  san marcos barrancas \"san cristobal cuch        NaN        NaN        NaN   \n",
       "3     yidnekachew dabessa coffee plantation        NaN    wolensu        NaN   \n",
       "4                                 metad plc        NaN  metad plc  2014/2015   \n",
       "\n",
       "                                 Company       Altitude        Region  \\\n",
       "0      metad agricultural developmet plc      1950-2200  guji-hambela   \n",
       "1      metad agricultural developmet plc      1950-2200  guji-hambela   \n",
       "2                                    NaN  1600 - 1800 m           NaN   \n",
       "3  yidnekachew debessa coffee plantation      1800-2200        oromia   \n",
       "4      metad agricultural developmet plc      1950-2200  guji-hambela   \n",
       "\n",
       "                                Producer  Number.of.Bags Bag.Weight  \\\n",
       "0                              METAD PLC             300      60 kg   \n",
       "1                              METAD PLC             300      60 kg   \n",
       "2                                    NaN               5          1   \n",
       "3  Yidnekachew Dabessa Coffee Plantation             320      60 kg   \n",
       "4                              METAD PLC             300      60 kg   \n",
       "\n",
       "                   In.Country.Partner Harvest.Year      Grading.Date  \\\n",
       "0  METAD Agricultural Development plc         2014   April 4th, 2015   \n",
       "1  METAD Agricultural Development plc         2014   April 4th, 2015   \n",
       "2        Specialty Coffee Association          NaN    May 31st, 2010   \n",
       "3  METAD Agricultural Development plc         2014  March 26th, 2015   \n",
       "4  METAD Agricultural Development plc         2014   April 4th, 2015   \n",
       "\n",
       "                    Owner.1  Variety Processing.Method  Aroma  Flavor  \\\n",
       "0                 metad plc      NaN      Washed / Wet   8.67    8.83   \n",
       "1                 metad plc    Other      Washed / Wet   8.75    8.67   \n",
       "2  Grounds for Health Admin  Bourbon               NaN   8.42    8.50   \n",
       "3       Yidnekachew Dabessa      NaN     Natural / Dry   8.17    8.58   \n",
       "4                 metad plc    Other      Washed / Wet   8.25    8.50   \n",
       "\n",
       "   Aftertaste  Acidity  Body  Balance  Uniformity  Clean.Cup  Sweetness  \\\n",
       "0        8.67     8.75  8.50     8.42        10.0       10.0       10.0   \n",
       "1        8.50     8.58  8.42     8.42        10.0       10.0       10.0   \n",
       "2        8.42     8.42  8.33     8.42        10.0       10.0       10.0   \n",
       "3        8.42     8.42  8.50     8.25        10.0       10.0       10.0   \n",
       "4        8.25     8.50  8.42     8.33        10.0       10.0       10.0   \n",
       "\n",
       "   Cupper.Points  Total.Cup.Points  Moisture  Category.One.Defects  Quakers  \\\n",
       "0           8.75             90.58      0.12                     0      0.0   \n",
       "1           8.58             89.92      0.12                     0      0.0   \n",
       "2           9.25             89.75      0.00                     0      0.0   \n",
       "3           8.67             89.00      0.11                     0      0.0   \n",
       "4           8.58             88.83      0.12                     0      0.0   \n",
       "\n",
       "   Color  Category.Two.Defects        Expiration  \\\n",
       "0  Green                     0   April 3rd, 2016   \n",
       "1  Green                     1   April 3rd, 2016   \n",
       "2    NaN                     0    May 31st, 2011   \n",
       "3  Green                     2  March 25th, 2016   \n",
       "4  Green                     2   April 3rd, 2016   \n",
       "\n",
       "                   Certification.Body  \\\n",
       "0  METAD Agricultural Development plc   \n",
       "1  METAD Agricultural Development plc   \n",
       "2        Specialty Coffee Association   \n",
       "3  METAD Agricultural Development plc   \n",
       "4  METAD Agricultural Development plc   \n",
       "\n",
       "                      Certification.Address  \\\n",
       "0  309fcf77415a3661ae83e027f7e5f05dad786e44   \n",
       "1  309fcf77415a3661ae83e027f7e5f05dad786e44   \n",
       "2  36d0d00a3724338ba7937c52a378d085f2172daa   \n",
       "3  309fcf77415a3661ae83e027f7e5f05dad786e44   \n",
       "4  309fcf77415a3661ae83e027f7e5f05dad786e44   \n",
       "\n",
       "                      Certification.Contact unit_of_measurement  \\\n",
       "0  19fef5a731de2db57d16da10287413f5f99bc2dd                   m   \n",
       "1  19fef5a731de2db57d16da10287413f5f99bc2dd                   m   \n",
       "2  0878a7d4b9d35ddbf0fe2ce69a2062cceb45a660                   m   \n",
       "3  19fef5a731de2db57d16da10287413f5f99bc2dd                   m   \n",
       "4  19fef5a731de2db57d16da10287413f5f99bc2dd                   m   \n",
       "\n",
       "   altitude_low_meters  altitude_high_meters  altitude_mean_meters  \\\n",
       "0               1950.0                2200.0                2075.0   \n",
       "1               1950.0                2200.0                2075.0   \n",
       "2               1600.0                1800.0                1700.0   \n",
       "3               1800.0                2200.0                2000.0   \n",
       "4               1950.0                2200.0                2075.0   \n",
       "\n",
       "   Fragrance...Aroma  Salt...Acid  Bitter...Sweet  Mouthfeel  Uniform.Cup  \n",
       "0                NaN          NaN             NaN        NaN          NaN  \n",
       "1                NaN          NaN             NaN        NaN          NaN  \n",
       "2                NaN          NaN             NaN        NaN          NaN  \n",
       "3                NaN          NaN             NaN        NaN          NaN  \n",
       "4                NaN          NaN             NaN        NaN          NaN  "
      ]
     },
     "execution_count": 4,
     "metadata": {},
     "output_type": "execute_result"
    }
   ],
   "source": [
    "pd.set_option('display.max_columns', 49)\n",
    "coffe.head(5)"
   ]
  },
  {
   "cell_type": "code",
   "execution_count": 5,
   "metadata": {},
   "outputs": [
    {
     "data": {
      "text/plain": [
       "(1339, 49)"
      ]
     },
     "execution_count": 5,
     "metadata": {},
     "output_type": "execute_result"
    }
   ],
   "source": [
    "coffe.shape"
   ]
  },
  {
   "cell_type": "code",
   "execution_count": 6,
   "metadata": {},
   "outputs": [
    {
     "name": "stdout",
     "output_type": "stream",
     "text": [
      "<class 'pandas.core.frame.DataFrame'>\n",
      "Int64Index: 1339 entries, 0 to 27\n",
      "Data columns (total 49 columns):\n",
      " #   Column                 Non-Null Count  Dtype  \n",
      "---  ------                 --------------  -----  \n",
      " 0   Unnamed: 0             1339 non-null   int64  \n",
      " 1   Species                1339 non-null   object \n",
      " 2   Owner                  1332 non-null   object \n",
      " 3   Country.of.Origin      1338 non-null   object \n",
      " 4   Farm.Name              980 non-null    object \n",
      " 5   Lot.Number             276 non-null    object \n",
      " 6   Mill                   1021 non-null   object \n",
      " 7   ICO.Number             1182 non-null   object \n",
      " 8   Company                1130 non-null   object \n",
      " 9   Altitude               1113 non-null   object \n",
      " 10  Region                 1280 non-null   object \n",
      " 11  Producer               1107 non-null   object \n",
      " 12  Number.of.Bags         1339 non-null   int64  \n",
      " 13  Bag.Weight             1339 non-null   object \n",
      " 14  In.Country.Partner     1339 non-null   object \n",
      " 15  Harvest.Year           1292 non-null   object \n",
      " 16  Grading.Date           1339 non-null   object \n",
      " 17  Owner.1                1332 non-null   object \n",
      " 18  Variety                1113 non-null   object \n",
      " 19  Processing.Method      1169 non-null   object \n",
      " 20  Aroma                  1311 non-null   float64\n",
      " 21  Flavor                 1339 non-null   float64\n",
      " 22  Aftertaste             1339 non-null   float64\n",
      " 23  Acidity                1311 non-null   float64\n",
      " 24  Body                   1311 non-null   float64\n",
      " 25  Balance                1339 non-null   float64\n",
      " 26  Uniformity             1311 non-null   float64\n",
      " 27  Clean.Cup              1339 non-null   float64\n",
      " 28  Sweetness              1311 non-null   float64\n",
      " 29  Cupper.Points          1339 non-null   float64\n",
      " 30  Total.Cup.Points       1339 non-null   float64\n",
      " 31  Moisture               1339 non-null   float64\n",
      " 32  Category.One.Defects   1339 non-null   int64  \n",
      " 33  Quakers                1338 non-null   float64\n",
      " 34  Color                  1121 non-null   object \n",
      " 35  Category.Two.Defects   1339 non-null   int64  \n",
      " 36  Expiration             1339 non-null   object \n",
      " 37  Certification.Body     1339 non-null   object \n",
      " 38  Certification.Address  1339 non-null   object \n",
      " 39  Certification.Contact  1339 non-null   object \n",
      " 40  unit_of_measurement    1339 non-null   object \n",
      " 41  altitude_low_meters    1109 non-null   float64\n",
      " 42  altitude_high_meters   1109 non-null   float64\n",
      " 43  altitude_mean_meters   1109 non-null   float64\n",
      " 44  Fragrance...Aroma      28 non-null     float64\n",
      " 45  Salt...Acid            28 non-null     float64\n",
      " 46  Bitter...Sweet         28 non-null     float64\n",
      " 47  Mouthfeel              28 non-null     float64\n",
      " 48  Uniform.Cup            28 non-null     float64\n",
      "dtypes: float64(21), int64(4), object(24)\n",
      "memory usage: 523.0+ KB\n"
     ]
    }
   ],
   "source": [
    "coffe.info()"
   ]
  },
  {
   "cell_type": "code",
   "execution_count": 7,
   "metadata": {},
   "outputs": [
    {
     "data": {
      "text/html": [
       "<div>\n",
       "<style scoped>\n",
       "    .dataframe tbody tr th:only-of-type {\n",
       "        vertical-align: middle;\n",
       "    }\n",
       "\n",
       "    .dataframe tbody tr th {\n",
       "        vertical-align: top;\n",
       "    }\n",
       "\n",
       "    .dataframe thead th {\n",
       "        text-align: right;\n",
       "    }\n",
       "</style>\n",
       "<table border=\"1\" class=\"dataframe\">\n",
       "  <thead>\n",
       "    <tr style=\"text-align: right;\">\n",
       "      <th></th>\n",
       "      <th>Unnamed: 0</th>\n",
       "      <th>Number.of.Bags</th>\n",
       "      <th>Aroma</th>\n",
       "      <th>Flavor</th>\n",
       "      <th>Aftertaste</th>\n",
       "      <th>Acidity</th>\n",
       "      <th>Body</th>\n",
       "      <th>Balance</th>\n",
       "      <th>Uniformity</th>\n",
       "      <th>Clean.Cup</th>\n",
       "      <th>Sweetness</th>\n",
       "      <th>Cupper.Points</th>\n",
       "      <th>Total.Cup.Points</th>\n",
       "      <th>Moisture</th>\n",
       "      <th>Category.One.Defects</th>\n",
       "      <th>Quakers</th>\n",
       "      <th>Category.Two.Defects</th>\n",
       "      <th>altitude_low_meters</th>\n",
       "      <th>altitude_high_meters</th>\n",
       "      <th>altitude_mean_meters</th>\n",
       "      <th>Fragrance...Aroma</th>\n",
       "      <th>Salt...Acid</th>\n",
       "      <th>Bitter...Sweet</th>\n",
       "      <th>Mouthfeel</th>\n",
       "      <th>Uniform.Cup</th>\n",
       "    </tr>\n",
       "  </thead>\n",
       "  <tbody>\n",
       "    <tr>\n",
       "      <th>count</th>\n",
       "      <td>1339.000000</td>\n",
       "      <td>1339.000000</td>\n",
       "      <td>1311.000000</td>\n",
       "      <td>1339.000000</td>\n",
       "      <td>1339.000000</td>\n",
       "      <td>1311.000000</td>\n",
       "      <td>1311.000000</td>\n",
       "      <td>1339.000000</td>\n",
       "      <td>1311.000000</td>\n",
       "      <td>1339.000000</td>\n",
       "      <td>1311.000000</td>\n",
       "      <td>1339.000000</td>\n",
       "      <td>1339.000000</td>\n",
       "      <td>1339.000000</td>\n",
       "      <td>1339.000000</td>\n",
       "      <td>1338.000000</td>\n",
       "      <td>1339.000000</td>\n",
       "      <td>1109.000000</td>\n",
       "      <td>1109.000000</td>\n",
       "      <td>1109.000000</td>\n",
       "      <td>28.000000</td>\n",
       "      <td>28.000000</td>\n",
       "      <td>28.000000</td>\n",
       "      <td>28.000000</td>\n",
       "      <td>28.000000</td>\n",
       "    </tr>\n",
       "    <tr>\n",
       "      <th>mean</th>\n",
       "      <td>642.586258</td>\n",
       "      <td>154.182972</td>\n",
       "      <td>7.563806</td>\n",
       "      <td>7.520426</td>\n",
       "      <td>7.401083</td>\n",
       "      <td>7.533112</td>\n",
       "      <td>7.517727</td>\n",
       "      <td>7.518013</td>\n",
       "      <td>9.833394</td>\n",
       "      <td>9.835108</td>\n",
       "      <td>9.903272</td>\n",
       "      <td>7.503376</td>\n",
       "      <td>82.089851</td>\n",
       "      <td>0.088379</td>\n",
       "      <td>0.479462</td>\n",
       "      <td>0.173393</td>\n",
       "      <td>3.556385</td>\n",
       "      <td>1750.713315</td>\n",
       "      <td>1799.347775</td>\n",
       "      <td>1775.030545</td>\n",
       "      <td>7.702500</td>\n",
       "      <td>7.657143</td>\n",
       "      <td>7.675714</td>\n",
       "      <td>7.506786</td>\n",
       "      <td>9.904286</td>\n",
       "    </tr>\n",
       "    <tr>\n",
       "      <th>std</th>\n",
       "      <td>385.707857</td>\n",
       "      <td>129.987162</td>\n",
       "      <td>0.378666</td>\n",
       "      <td>0.398442</td>\n",
       "      <td>0.404463</td>\n",
       "      <td>0.381599</td>\n",
       "      <td>0.359213</td>\n",
       "      <td>0.408943</td>\n",
       "      <td>0.559343</td>\n",
       "      <td>0.763946</td>\n",
       "      <td>0.530832</td>\n",
       "      <td>0.473464</td>\n",
       "      <td>3.500575</td>\n",
       "      <td>0.048287</td>\n",
       "      <td>2.549683</td>\n",
       "      <td>0.832121</td>\n",
       "      <td>5.312541</td>\n",
       "      <td>8669.440545</td>\n",
       "      <td>8668.805771</td>\n",
       "      <td>8668.626080</td>\n",
       "      <td>0.296156</td>\n",
       "      <td>0.261773</td>\n",
       "      <td>0.317063</td>\n",
       "      <td>0.725152</td>\n",
       "      <td>0.238753</td>\n",
       "    </tr>\n",
       "    <tr>\n",
       "      <th>min</th>\n",
       "      <td>1.000000</td>\n",
       "      <td>0.000000</td>\n",
       "      <td>0.000000</td>\n",
       "      <td>0.000000</td>\n",
       "      <td>0.000000</td>\n",
       "      <td>0.000000</td>\n",
       "      <td>0.000000</td>\n",
       "      <td>0.000000</td>\n",
       "      <td>0.000000</td>\n",
       "      <td>0.000000</td>\n",
       "      <td>0.000000</td>\n",
       "      <td>0.000000</td>\n",
       "      <td>0.000000</td>\n",
       "      <td>0.000000</td>\n",
       "      <td>0.000000</td>\n",
       "      <td>0.000000</td>\n",
       "      <td>0.000000</td>\n",
       "      <td>1.000000</td>\n",
       "      <td>1.000000</td>\n",
       "      <td>1.000000</td>\n",
       "      <td>6.750000</td>\n",
       "      <td>6.830000</td>\n",
       "      <td>6.670000</td>\n",
       "      <td>5.080000</td>\n",
       "      <td>9.330000</td>\n",
       "    </tr>\n",
       "    <tr>\n",
       "      <th>25%</th>\n",
       "      <td>307.500000</td>\n",
       "      <td>14.000000</td>\n",
       "      <td>7.420000</td>\n",
       "      <td>7.330000</td>\n",
       "      <td>7.250000</td>\n",
       "      <td>7.330000</td>\n",
       "      <td>7.330000</td>\n",
       "      <td>7.330000</td>\n",
       "      <td>10.000000</td>\n",
       "      <td>10.000000</td>\n",
       "      <td>10.000000</td>\n",
       "      <td>7.250000</td>\n",
       "      <td>81.080000</td>\n",
       "      <td>0.090000</td>\n",
       "      <td>0.000000</td>\n",
       "      <td>0.000000</td>\n",
       "      <td>0.000000</td>\n",
       "      <td>1100.000000</td>\n",
       "      <td>1100.000000</td>\n",
       "      <td>1100.000000</td>\n",
       "      <td>7.580000</td>\n",
       "      <td>7.560000</td>\n",
       "      <td>7.580000</td>\n",
       "      <td>7.500000</td>\n",
       "      <td>10.000000</td>\n",
       "    </tr>\n",
       "    <tr>\n",
       "      <th>50%</th>\n",
       "      <td>642.000000</td>\n",
       "      <td>175.000000</td>\n",
       "      <td>7.580000</td>\n",
       "      <td>7.580000</td>\n",
       "      <td>7.420000</td>\n",
       "      <td>7.500000</td>\n",
       "      <td>7.500000</td>\n",
       "      <td>7.500000</td>\n",
       "      <td>10.000000</td>\n",
       "      <td>10.000000</td>\n",
       "      <td>10.000000</td>\n",
       "      <td>7.500000</td>\n",
       "      <td>82.500000</td>\n",
       "      <td>0.110000</td>\n",
       "      <td>0.000000</td>\n",
       "      <td>0.000000</td>\n",
       "      <td>2.000000</td>\n",
       "      <td>1310.640000</td>\n",
       "      <td>1350.000000</td>\n",
       "      <td>1310.640000</td>\n",
       "      <td>7.670000</td>\n",
       "      <td>7.710000</td>\n",
       "      <td>7.750000</td>\n",
       "      <td>7.670000</td>\n",
       "      <td>10.000000</td>\n",
       "    </tr>\n",
       "    <tr>\n",
       "      <th>75%</th>\n",
       "      <td>976.500000</td>\n",
       "      <td>275.000000</td>\n",
       "      <td>7.750000</td>\n",
       "      <td>7.750000</td>\n",
       "      <td>7.580000</td>\n",
       "      <td>7.750000</td>\n",
       "      <td>7.670000</td>\n",
       "      <td>7.750000</td>\n",
       "      <td>10.000000</td>\n",
       "      <td>10.000000</td>\n",
       "      <td>10.000000</td>\n",
       "      <td>7.750000</td>\n",
       "      <td>83.670000</td>\n",
       "      <td>0.120000</td>\n",
       "      <td>0.000000</td>\n",
       "      <td>0.000000</td>\n",
       "      <td>4.000000</td>\n",
       "      <td>1600.000000</td>\n",
       "      <td>1650.000000</td>\n",
       "      <td>1600.000000</td>\n",
       "      <td>7.920000</td>\n",
       "      <td>7.830000</td>\n",
       "      <td>7.830000</td>\n",
       "      <td>7.830000</td>\n",
       "      <td>10.000000</td>\n",
       "    </tr>\n",
       "    <tr>\n",
       "      <th>max</th>\n",
       "      <td>1312.000000</td>\n",
       "      <td>1062.000000</td>\n",
       "      <td>8.750000</td>\n",
       "      <td>8.830000</td>\n",
       "      <td>8.670000</td>\n",
       "      <td>8.750000</td>\n",
       "      <td>8.580000</td>\n",
       "      <td>8.750000</td>\n",
       "      <td>10.000000</td>\n",
       "      <td>10.000000</td>\n",
       "      <td>10.000000</td>\n",
       "      <td>10.000000</td>\n",
       "      <td>90.580000</td>\n",
       "      <td>0.280000</td>\n",
       "      <td>63.000000</td>\n",
       "      <td>11.000000</td>\n",
       "      <td>55.000000</td>\n",
       "      <td>190164.000000</td>\n",
       "      <td>190164.000000</td>\n",
       "      <td>190164.000000</td>\n",
       "      <td>8.330000</td>\n",
       "      <td>8.000000</td>\n",
       "      <td>8.420000</td>\n",
       "      <td>8.250000</td>\n",
       "      <td>10.000000</td>\n",
       "    </tr>\n",
       "  </tbody>\n",
       "</table>\n",
       "</div>"
      ],
      "text/plain": [
       "        Unnamed: 0  Number.of.Bags        Aroma       Flavor   Aftertaste  \\\n",
       "count  1339.000000     1339.000000  1311.000000  1339.000000  1339.000000   \n",
       "mean    642.586258      154.182972     7.563806     7.520426     7.401083   \n",
       "std     385.707857      129.987162     0.378666     0.398442     0.404463   \n",
       "min       1.000000        0.000000     0.000000     0.000000     0.000000   \n",
       "25%     307.500000       14.000000     7.420000     7.330000     7.250000   \n",
       "50%     642.000000      175.000000     7.580000     7.580000     7.420000   \n",
       "75%     976.500000      275.000000     7.750000     7.750000     7.580000   \n",
       "max    1312.000000     1062.000000     8.750000     8.830000     8.670000   \n",
       "\n",
       "           Acidity         Body      Balance   Uniformity    Clean.Cup  \\\n",
       "count  1311.000000  1311.000000  1339.000000  1311.000000  1339.000000   \n",
       "mean      7.533112     7.517727     7.518013     9.833394     9.835108   \n",
       "std       0.381599     0.359213     0.408943     0.559343     0.763946   \n",
       "min       0.000000     0.000000     0.000000     0.000000     0.000000   \n",
       "25%       7.330000     7.330000     7.330000    10.000000    10.000000   \n",
       "50%       7.500000     7.500000     7.500000    10.000000    10.000000   \n",
       "75%       7.750000     7.670000     7.750000    10.000000    10.000000   \n",
       "max       8.750000     8.580000     8.750000    10.000000    10.000000   \n",
       "\n",
       "         Sweetness  Cupper.Points  Total.Cup.Points     Moisture  \\\n",
       "count  1311.000000    1339.000000       1339.000000  1339.000000   \n",
       "mean      9.903272       7.503376         82.089851     0.088379   \n",
       "std       0.530832       0.473464          3.500575     0.048287   \n",
       "min       0.000000       0.000000          0.000000     0.000000   \n",
       "25%      10.000000       7.250000         81.080000     0.090000   \n",
       "50%      10.000000       7.500000         82.500000     0.110000   \n",
       "75%      10.000000       7.750000         83.670000     0.120000   \n",
       "max      10.000000      10.000000         90.580000     0.280000   \n",
       "\n",
       "       Category.One.Defects      Quakers  Category.Two.Defects  \\\n",
       "count           1339.000000  1338.000000           1339.000000   \n",
       "mean               0.479462     0.173393              3.556385   \n",
       "std                2.549683     0.832121              5.312541   \n",
       "min                0.000000     0.000000              0.000000   \n",
       "25%                0.000000     0.000000              0.000000   \n",
       "50%                0.000000     0.000000              2.000000   \n",
       "75%                0.000000     0.000000              4.000000   \n",
       "max               63.000000    11.000000             55.000000   \n",
       "\n",
       "       altitude_low_meters  altitude_high_meters  altitude_mean_meters  \\\n",
       "count          1109.000000           1109.000000           1109.000000   \n",
       "mean           1750.713315           1799.347775           1775.030545   \n",
       "std            8669.440545           8668.805771           8668.626080   \n",
       "min               1.000000              1.000000              1.000000   \n",
       "25%            1100.000000           1100.000000           1100.000000   \n",
       "50%            1310.640000           1350.000000           1310.640000   \n",
       "75%            1600.000000           1650.000000           1600.000000   \n",
       "max          190164.000000         190164.000000         190164.000000   \n",
       "\n",
       "       Fragrance...Aroma  Salt...Acid  Bitter...Sweet  Mouthfeel  Uniform.Cup  \n",
       "count          28.000000    28.000000       28.000000  28.000000    28.000000  \n",
       "mean            7.702500     7.657143        7.675714   7.506786     9.904286  \n",
       "std             0.296156     0.261773        0.317063   0.725152     0.238753  \n",
       "min             6.750000     6.830000        6.670000   5.080000     9.330000  \n",
       "25%             7.580000     7.560000        7.580000   7.500000    10.000000  \n",
       "50%             7.670000     7.710000        7.750000   7.670000    10.000000  \n",
       "75%             7.920000     7.830000        7.830000   7.830000    10.000000  \n",
       "max             8.330000     8.000000        8.420000   8.250000    10.000000  "
      ]
     },
     "execution_count": 7,
     "metadata": {},
     "output_type": "execute_result"
    }
   ],
   "source": [
    "coffe.describe()"
   ]
  },
  {
   "cell_type": "code",
   "execution_count": 8,
   "metadata": {},
   "outputs": [],
   "source": [
    "# data wrangling & EDA"
   ]
  },
  {
   "cell_type": "code",
   "execution_count": 9,
   "metadata": {
    "scrolled": true
   },
   "outputs": [
    {
     "data": {
      "text/plain": [
       "Unnamed: 0                  0\n",
       "Species                     0\n",
       "Owner                       7\n",
       "Country.of.Origin           1\n",
       "Farm.Name                 359\n",
       "Lot.Number               1063\n",
       "Mill                      318\n",
       "ICO.Number                157\n",
       "Company                   209\n",
       "Altitude                  226\n",
       "Region                     59\n",
       "Producer                  232\n",
       "Number.of.Bags              0\n",
       "Bag.Weight                  0\n",
       "In.Country.Partner          0\n",
       "Harvest.Year               47\n",
       "Grading.Date                0\n",
       "Owner.1                     7\n",
       "Variety                   226\n",
       "Processing.Method         170\n",
       "Aroma                      28\n",
       "Flavor                      0\n",
       "Aftertaste                  0\n",
       "Acidity                    28\n",
       "Body                       28\n",
       "Balance                     0\n",
       "Uniformity                 28\n",
       "Clean.Cup                   0\n",
       "Sweetness                  28\n",
       "Cupper.Points               0\n",
       "Total.Cup.Points            0\n",
       "Moisture                    0\n",
       "Category.One.Defects        0\n",
       "Quakers                     1\n",
       "Color                     218\n",
       "Category.Two.Defects        0\n",
       "Expiration                  0\n",
       "Certification.Body          0\n",
       "Certification.Address       0\n",
       "Certification.Contact       0\n",
       "unit_of_measurement         0\n",
       "altitude_low_meters       230\n",
       "altitude_high_meters      230\n",
       "altitude_mean_meters      230\n",
       "Fragrance...Aroma        1311\n",
       "Salt...Acid              1311\n",
       "Bitter...Sweet           1311\n",
       "Mouthfeel                1311\n",
       "Uniform.Cup              1311\n",
       "dtype: int64"
      ]
     },
     "execution_count": 9,
     "metadata": {},
     "output_type": "execute_result"
    }
   ],
   "source": [
    "coffe.isnull().sum()"
   ]
  },
  {
   "cell_type": "code",
   "execution_count": 10,
   "metadata": {},
   "outputs": [],
   "source": [
    "#delete [Fragrance...Aroma,Salt...Acid,Bitter...Sweet,Mouthfeel,Uniform.Cup] they have 1311 null and also there are columns in dataset that gives the same meaning\n",
    "#delete[flavor,aftertest]because aroma column  has the same meaning\n",
    "#delete[owner.1]because there is owner colmn has the same data in owner.1 column"
   ]
  },
  {
   "cell_type": "code",
   "execution_count": 11,
   "metadata": {},
   "outputs": [
    {
     "data": {
      "text/html": [
       "<div>\n",
       "<style scoped>\n",
       "    .dataframe tbody tr th:only-of-type {\n",
       "        vertical-align: middle;\n",
       "    }\n",
       "\n",
       "    .dataframe tbody tr th {\n",
       "        vertical-align: top;\n",
       "    }\n",
       "\n",
       "    .dataframe thead th {\n",
       "        text-align: right;\n",
       "    }\n",
       "</style>\n",
       "<table border=\"1\" class=\"dataframe\">\n",
       "  <thead>\n",
       "    <tr style=\"text-align: right;\">\n",
       "      <th></th>\n",
       "      <th>Species</th>\n",
       "      <th>Owner</th>\n",
       "      <th>Country.of.Origin</th>\n",
       "      <th>Company</th>\n",
       "      <th>Number.of.Bags</th>\n",
       "      <th>Bag.Weight</th>\n",
       "      <th>Harvest.Year</th>\n",
       "      <th>Processing.Method</th>\n",
       "      <th>Aroma</th>\n",
       "      <th>Acidity</th>\n",
       "      <th>Body</th>\n",
       "      <th>Sweetness</th>\n",
       "      <th>Total.Cup.Points</th>\n",
       "      <th>Moisture</th>\n",
       "      <th>Category.One.Defects</th>\n",
       "      <th>Color</th>\n",
       "      <th>Category.Two.Defects</th>\n",
       "      <th>Expiration</th>\n",
       "      <th>altitude_low_meters</th>\n",
       "      <th>altitude_high_meters</th>\n",
       "      <th>altitude_mean_meters</th>\n",
       "    </tr>\n",
       "  </thead>\n",
       "  <tbody>\n",
       "    <tr>\n",
       "      <th>0</th>\n",
       "      <td>Arabica</td>\n",
       "      <td>metad plc</td>\n",
       "      <td>Ethiopia</td>\n",
       "      <td>metad agricultural developmet plc</td>\n",
       "      <td>300</td>\n",
       "      <td>60 kg</td>\n",
       "      <td>2014</td>\n",
       "      <td>Washed / Wet</td>\n",
       "      <td>8.67</td>\n",
       "      <td>8.75</td>\n",
       "      <td>8.50</td>\n",
       "      <td>10.0</td>\n",
       "      <td>90.58</td>\n",
       "      <td>0.12</td>\n",
       "      <td>0</td>\n",
       "      <td>Green</td>\n",
       "      <td>0</td>\n",
       "      <td>April 3rd, 2016</td>\n",
       "      <td>1950.0</td>\n",
       "      <td>2200.0</td>\n",
       "      <td>2075.0</td>\n",
       "    </tr>\n",
       "    <tr>\n",
       "      <th>1</th>\n",
       "      <td>Arabica</td>\n",
       "      <td>metad plc</td>\n",
       "      <td>Ethiopia</td>\n",
       "      <td>metad agricultural developmet plc</td>\n",
       "      <td>300</td>\n",
       "      <td>60 kg</td>\n",
       "      <td>2014</td>\n",
       "      <td>Washed / Wet</td>\n",
       "      <td>8.75</td>\n",
       "      <td>8.58</td>\n",
       "      <td>8.42</td>\n",
       "      <td>10.0</td>\n",
       "      <td>89.92</td>\n",
       "      <td>0.12</td>\n",
       "      <td>0</td>\n",
       "      <td>Green</td>\n",
       "      <td>1</td>\n",
       "      <td>April 3rd, 2016</td>\n",
       "      <td>1950.0</td>\n",
       "      <td>2200.0</td>\n",
       "      <td>2075.0</td>\n",
       "    </tr>\n",
       "    <tr>\n",
       "      <th>2</th>\n",
       "      <td>Arabica</td>\n",
       "      <td>grounds for health admin</td>\n",
       "      <td>Guatemala</td>\n",
       "      <td>NaN</td>\n",
       "      <td>5</td>\n",
       "      <td>1</td>\n",
       "      <td>NaN</td>\n",
       "      <td>NaN</td>\n",
       "      <td>8.42</td>\n",
       "      <td>8.42</td>\n",
       "      <td>8.33</td>\n",
       "      <td>10.0</td>\n",
       "      <td>89.75</td>\n",
       "      <td>0.00</td>\n",
       "      <td>0</td>\n",
       "      <td>NaN</td>\n",
       "      <td>0</td>\n",
       "      <td>May 31st, 2011</td>\n",
       "      <td>1600.0</td>\n",
       "      <td>1800.0</td>\n",
       "      <td>1700.0</td>\n",
       "    </tr>\n",
       "  </tbody>\n",
       "</table>\n",
       "</div>"
      ],
      "text/plain": [
       "   Species                     Owner Country.of.Origin  \\\n",
       "0  Arabica                 metad plc          Ethiopia   \n",
       "1  Arabica                 metad plc          Ethiopia   \n",
       "2  Arabica  grounds for health admin         Guatemala   \n",
       "\n",
       "                             Company  Number.of.Bags Bag.Weight Harvest.Year  \\\n",
       "0  metad agricultural developmet plc             300      60 kg         2014   \n",
       "1  metad agricultural developmet plc             300      60 kg         2014   \n",
       "2                                NaN               5          1          NaN   \n",
       "\n",
       "  Processing.Method  Aroma  Acidity  Body  Sweetness  Total.Cup.Points  \\\n",
       "0      Washed / Wet   8.67     8.75  8.50       10.0             90.58   \n",
       "1      Washed / Wet   8.75     8.58  8.42       10.0             89.92   \n",
       "2               NaN   8.42     8.42  8.33       10.0             89.75   \n",
       "\n",
       "   Moisture  Category.One.Defects  Color  Category.Two.Defects  \\\n",
       "0      0.12                     0  Green                     0   \n",
       "1      0.12                     0  Green                     1   \n",
       "2      0.00                     0    NaN                     0   \n",
       "\n",
       "        Expiration  altitude_low_meters  altitude_high_meters  \\\n",
       "0  April 3rd, 2016               1950.0                2200.0   \n",
       "1  April 3rd, 2016               1950.0                2200.0   \n",
       "2   May 31st, 2011               1600.0                1800.0   \n",
       "\n",
       "   altitude_mean_meters  \n",
       "0                2075.0  \n",
       "1                2075.0  \n",
       "2                1700.0  "
      ]
     },
     "execution_count": 11,
     "metadata": {},
     "output_type": "execute_result"
    }
   ],
   "source": [
    "#delete the 4,5,6,7,10,11,12,13,14,18,26,28,34,37,38,39,44,45,46,47,48\n",
    "coffe=coffe.drop(coffe.columns[[0,4,5,6,7,9,10,11,14,16,17,18,21,22,25,26,27,29,33,37,38,39,40,44,45,46,47,48]], axis = 1)\n",
    "coffe.head(3)\n"
   ]
  },
  {
   "cell_type": "code",
   "execution_count": 12,
   "metadata": {},
   "outputs": [
    {
     "data": {
      "text/plain": [
       "(1339, 21)"
      ]
     },
     "execution_count": 12,
     "metadata": {},
     "output_type": "execute_result"
    }
   ],
   "source": [
    "coffe.shape"
   ]
  },
  {
   "cell_type": "code",
   "execution_count": 13,
   "metadata": {},
   "outputs": [
    {
     "data": {
      "text/plain": [
       "Species                   0\n",
       "Owner                     7\n",
       "Country.of.Origin         1\n",
       "Company                 209\n",
       "Number.of.Bags            0\n",
       "Bag.Weight                0\n",
       "Harvest.Year             47\n",
       "Processing.Method       170\n",
       "Aroma                    28\n",
       "Acidity                  28\n",
       "Body                     28\n",
       "Sweetness                28\n",
       "Total.Cup.Points          0\n",
       "Moisture                  0\n",
       "Category.One.Defects      0\n",
       "Color                   218\n",
       "Category.Two.Defects      0\n",
       "Expiration                0\n",
       "altitude_low_meters     230\n",
       "altitude_high_meters    230\n",
       "altitude_mean_meters    230\n",
       "dtype: int64"
      ]
     },
     "execution_count": 13,
     "metadata": {},
     "output_type": "execute_result"
    }
   ],
   "source": [
    "coffe.isnull().sum()"
   ]
  },
  {
   "cell_type": "code",
   "execution_count": 14,
   "metadata": {},
   "outputs": [
    {
     "data": {
      "text/plain": [
       "juan luis alvarado romero           155\n",
       "racafe & cia s.c.a                   60\n",
       "exportadora de cafe condor s.a       54\n",
       "kona pacific farmers cooperative     52\n",
       "Name: Owner, dtype: int64"
      ]
     },
     "execution_count": 14,
     "metadata": {},
     "output_type": "execute_result"
    }
   ],
   "source": [
    "#What is the most frequent owner\n",
    "coffe['Owner'].value_counts().head(4)"
   ]
  },
  {
   "cell_type": "code",
   "execution_count": 15,
   "metadata": {},
   "outputs": [],
   "source": [
    "##fill null owner with the most frequent owner\n",
    "coffe['Owner'].fillna('juan luis alvarado romero',inplace=True)"
   ]
  },
  {
   "cell_type": "code",
   "execution_count": 16,
   "metadata": {},
   "outputs": [
    {
     "data": {
      "text/plain": [
       "Mexico       236\n",
       "Colombia     183\n",
       "Guatemala    181\n",
       "Brazil       132\n",
       "Name: Country.of.Origin, dtype: int64"
      ]
     },
     "execution_count": 16,
     "metadata": {},
     "output_type": "execute_result"
    }
   ],
   "source": [
    "#What is the most common country that produces coffee\n",
    "coffe['Country.of.Origin'].value_counts().head(4)"
   ]
  },
  {
   "cell_type": "code",
   "execution_count": 17,
   "metadata": {},
   "outputs": [
    {
     "data": {
      "text/plain": [
       "Species  Country.of.Origin           \n",
       "Arabica  Mexico                          236\n",
       "         Colombia                        183\n",
       "         Guatemala                       181\n",
       "         Brazil                          132\n",
       "         Taiwan                           75\n",
       "         United States (Hawaii)           73\n",
       "         Honduras                         53\n",
       "         Costa Rica                       51\n",
       "         Ethiopia                         44\n",
       "         Tanzania, United Republic Of     40\n",
       "         Thailand                         32\n",
       "         Nicaragua                        26\n",
       "         Uganda                           26\n",
       "         Kenya                            25\n",
       "         El Salvador                      21\n",
       "         Indonesia                        20\n",
       "         China                            16\n",
       "         Malawi                           11\n",
       "         Peru                             10\n",
       "         Myanmar                           8\n",
       "         United States                     8\n",
       "         Vietnam                           7\n",
       "         Haiti                             6\n",
       "         Philippines                       5\n",
       "         Panama                            4\n",
       "         United States (Puerto Rico)       4\n",
       "         Laos                              3\n",
       "         Burundi                           2\n",
       "         Cote d?Ivoire                     1\n",
       "         Ecuador                           1\n",
       "         India                             1\n",
       "         Japan                             1\n",
       "         Mauritius                         1\n",
       "         Papua New Guinea                  1\n",
       "         Rwanda                            1\n",
       "         Zambia                            1\n",
       "Robusta  India                            13\n",
       "         Uganda                           10\n",
       "         Ecuador                           2\n",
       "         United States                     2\n",
       "         Vietnam                           1\n",
       "Name: Country.of.Origin, dtype: int64"
      ]
     },
     "execution_count": 17,
     "metadata": {},
     "output_type": "execute_result"
    }
   ],
   "source": [
    "coffe.groupby(['Species'])['Country.of.Origin'].value_counts()"
   ]
  },
  {
   "cell_type": "code",
   "execution_count": 18,
   "metadata": {},
   "outputs": [],
   "source": [
    "#fill country of origin with mexico because it is the most country produce coffe\n",
    "coffe['Country.of.Origin'].fillna('Mexico',inplace=True)"
   ]
  },
  {
   "cell_type": "code",
   "execution_count": 19,
   "metadata": {},
   "outputs": [
    {
     "data": {
      "text/plain": [
       "unex guatemala, s.a.    86\n",
       "ipanema coffees         50\n",
       "racafe & cia s.c.a      40\n",
       "Name: Company, dtype: int64"
      ]
     },
     "execution_count": 19,
     "metadata": {},
     "output_type": "execute_result"
    }
   ],
   "source": [
    "coffe['Company'].value_counts().head(3)"
   ]
  },
  {
   "cell_type": "code",
   "execution_count": 20,
   "metadata": {},
   "outputs": [],
   "source": [
    "coffe['Company'].fillna('unex guatemala, s.a.',inplace=True)"
   ]
  },
  {
   "cell_type": "code",
   "execution_count": 21,
   "metadata": {},
   "outputs": [
    {
     "data": {
      "text/plain": [
       "2012    352\n",
       "2014    226\n",
       "Name: Harvest.Year, dtype: int64"
      ]
     },
     "execution_count": 21,
     "metadata": {},
     "output_type": "execute_result"
    }
   ],
   "source": [
    "coffe['Harvest.Year'].value_counts().head(2)"
   ]
  },
  {
   "cell_type": "code",
   "execution_count": 22,
   "metadata": {},
   "outputs": [],
   "source": [
    "coffe['Harvest.Year'].fillna('2012',inplace=True)"
   ]
  },
  {
   "cell_type": "code",
   "execution_count": 23,
   "metadata": {},
   "outputs": [
    {
     "data": {
      "text/plain": [
       "7.67"
      ]
     },
     "execution_count": 23,
     "metadata": {},
     "output_type": "execute_result"
    }
   ],
   "source": [
    "coffe['Aroma'].mode()[0]"
   ]
  },
  {
   "cell_type": "code",
   "execution_count": 24,
   "metadata": {},
   "outputs": [],
   "source": [
    "coffe['Aroma'].fillna(coffe['Aroma'].mode()[0],inplace=True)"
   ]
  },
  {
   "cell_type": "code",
   "execution_count": 25,
   "metadata": {},
   "outputs": [
    {
     "data": {
      "text/plain": [
       "7.5"
      ]
     },
     "execution_count": 25,
     "metadata": {},
     "output_type": "execute_result"
    }
   ],
   "source": [
    "coffe['Acidity'].mode()[0]"
   ]
  },
  {
   "cell_type": "code",
   "execution_count": 26,
   "metadata": {},
   "outputs": [],
   "source": [
    "coffe['Acidity'].fillna(coffe['Acidity'].mode()[0],inplace=True)"
   ]
  },
  {
   "cell_type": "code",
   "execution_count": 27,
   "metadata": {},
   "outputs": [
    {
     "data": {
      "text/plain": [
       "1200.0"
      ]
     },
     "execution_count": 27,
     "metadata": {},
     "output_type": "execute_result"
    }
   ],
   "source": [
    "coffe['altitude_low_meters'].mode()[0]"
   ]
  },
  {
   "cell_type": "code",
   "execution_count": 28,
   "metadata": {},
   "outputs": [],
   "source": [
    "coffe['altitude_low_meters'].fillna(coffe['altitude_low_meters'].mode()[0],inplace=True)"
   ]
  },
  {
   "cell_type": "code",
   "execution_count": 29,
   "metadata": {},
   "outputs": [
    {
     "data": {
      "text/plain": [
       "1200.0"
      ]
     },
     "execution_count": 29,
     "metadata": {},
     "output_type": "execute_result"
    }
   ],
   "source": [
    "coffe['altitude_high_meters'].mode()[0]"
   ]
  },
  {
   "cell_type": "code",
   "execution_count": 30,
   "metadata": {},
   "outputs": [],
   "source": [
    "coffe['altitude_high_meters'].fillna(coffe['altitude_high_meters'].mode()[0],inplace=True)"
   ]
  },
  {
   "cell_type": "code",
   "execution_count": 31,
   "metadata": {},
   "outputs": [
    {
     "data": {
      "text/plain": [
       "1200.0"
      ]
     },
     "execution_count": 31,
     "metadata": {},
     "output_type": "execute_result"
    }
   ],
   "source": [
    "coffe['altitude_mean_meters'].mode()[0]"
   ]
  },
  {
   "cell_type": "code",
   "execution_count": 32,
   "metadata": {},
   "outputs": [],
   "source": [
    "coffe['altitude_mean_meters'].fillna(coffe['altitude_mean_meters'].mode()[0],inplace=True)"
   ]
  },
  {
   "cell_type": "code",
   "execution_count": 33,
   "metadata": {},
   "outputs": [
    {
     "data": {
      "text/plain": [
       "Washed / Wet                 815\n",
       "Natural / Dry                258\n",
       "Semi-washed / Semi-pulped     56\n",
       "Other                         26\n",
       "Pulped natural / honey        14\n",
       "Name: Processing.Method, dtype: int64"
      ]
     },
     "execution_count": 33,
     "metadata": {},
     "output_type": "execute_result"
    }
   ],
   "source": [
    "coffe['Processing.Method'].value_counts()"
   ]
  },
  {
   "cell_type": "code",
   "execution_count": 34,
   "metadata": {},
   "outputs": [],
   "source": [
    "coffe['Processing.Method'].fillna('Washed / Wet',inplace=True)"
   ]
  },
  {
   "cell_type": "code",
   "execution_count": 35,
   "metadata": {},
   "outputs": [
    {
     "data": {
      "text/plain": [
       "7.5"
      ]
     },
     "execution_count": 35,
     "metadata": {},
     "output_type": "execute_result"
    }
   ],
   "source": [
    "coffe['Body'].mode()[0]"
   ]
  },
  {
   "cell_type": "code",
   "execution_count": 36,
   "metadata": {},
   "outputs": [],
   "source": [
    "coffe['Body'].fillna(coffe['Body'].mode()[0],inplace=True)"
   ]
  },
  {
   "cell_type": "code",
   "execution_count": 37,
   "metadata": {},
   "outputs": [
    {
     "data": {
      "text/plain": [
       "10.0"
      ]
     },
     "execution_count": 37,
     "metadata": {},
     "output_type": "execute_result"
    }
   ],
   "source": [
    "coffe['Sweetness'].mode()[0]"
   ]
  },
  {
   "cell_type": "code",
   "execution_count": 38,
   "metadata": {},
   "outputs": [],
   "source": [
    "coffe['Sweetness'].fillna(coffe['Sweetness'].mode()[0],inplace=True)"
   ]
  },
  {
   "cell_type": "code",
   "execution_count": 39,
   "metadata": {},
   "outputs": [
    {
     "data": {
      "text/plain": [
       "Green           870\n",
       "Bluish-Green    114\n",
       "Blue-Green       85\n",
       "None             52\n",
       "Name: Color, dtype: int64"
      ]
     },
     "execution_count": 39,
     "metadata": {},
     "output_type": "execute_result"
    }
   ],
   "source": [
    "coffe['Color'].value_counts()"
   ]
  },
  {
   "cell_type": "code",
   "execution_count": 40,
   "metadata": {},
   "outputs": [],
   "source": [
    "coffe['Color'].fillna('Green',inplace=True)"
   ]
  },
  {
   "cell_type": "code",
   "execution_count": 41,
   "metadata": {},
   "outputs": [
    {
     "data": {
      "text/plain": [
       "Species                 0\n",
       "Owner                   0\n",
       "Country.of.Origin       0\n",
       "Company                 0\n",
       "Number.of.Bags          0\n",
       "Bag.Weight              0\n",
       "Harvest.Year            0\n",
       "Processing.Method       0\n",
       "Aroma                   0\n",
       "Acidity                 0\n",
       "Body                    0\n",
       "Sweetness               0\n",
       "Total.Cup.Points        0\n",
       "Moisture                0\n",
       "Category.One.Defects    0\n",
       "Color                   0\n",
       "Category.Two.Defects    0\n",
       "Expiration              0\n",
       "altitude_low_meters     0\n",
       "altitude_high_meters    0\n",
       "altitude_mean_meters    0\n",
       "dtype: int64"
      ]
     },
     "execution_count": 41,
     "metadata": {},
     "output_type": "execute_result"
    }
   ],
   "source": [
    "coffe.isnull().sum()"
   ]
  },
  {
   "cell_type": "code",
   "execution_count": 42,
   "metadata": {},
   "outputs": [
    {
     "data": {
      "text/plain": [
       "0"
      ]
     },
     "execution_count": 42,
     "metadata": {},
     "output_type": "execute_result"
    }
   ],
   "source": [
    "coffe.duplicated().sum()"
   ]
  },
  {
   "cell_type": "code",
   "execution_count": 43,
   "metadata": {},
   "outputs": [
    {
     "data": {
      "text/plain": [
       "Species\n",
       "Arabica    8.75\n",
       "Robusta    7.50\n",
       "Name: Acidity, dtype: float64"
      ]
     },
     "execution_count": 43,
     "metadata": {},
     "output_type": "execute_result"
    }
   ],
   "source": [
    "#percentage of acidity\n",
    "coffe.groupby('Species')['Acidity'].max()"
   ]
  },
  {
   "cell_type": "code",
   "execution_count": 44,
   "metadata": {},
   "outputs": [
    {
     "data": {
      "text/html": [
       "<div>\n",
       "<style scoped>\n",
       "    .dataframe tbody tr th:only-of-type {\n",
       "        vertical-align: middle;\n",
       "    }\n",
       "\n",
       "    .dataframe tbody tr th {\n",
       "        vertical-align: top;\n",
       "    }\n",
       "\n",
       "    .dataframe thead th {\n",
       "        text-align: right;\n",
       "    }\n",
       "</style>\n",
       "<table border=\"1\" class=\"dataframe\">\n",
       "  <thead>\n",
       "    <tr style=\"text-align: right;\">\n",
       "      <th></th>\n",
       "      <th>Sweetness</th>\n",
       "      <th>Acidity</th>\n",
       "    </tr>\n",
       "    <tr>\n",
       "      <th>Species</th>\n",
       "      <th></th>\n",
       "      <th></th>\n",
       "    </tr>\n",
       "  </thead>\n",
       "  <tbody>\n",
       "    <tr>\n",
       "      <th>Arabica</th>\n",
       "      <td>0.0</td>\n",
       "      <td>0.0</td>\n",
       "    </tr>\n",
       "    <tr>\n",
       "      <th>Robusta</th>\n",
       "      <td>10.0</td>\n",
       "      <td>7.5</td>\n",
       "    </tr>\n",
       "  </tbody>\n",
       "</table>\n",
       "</div>"
      ],
      "text/plain": [
       "         Sweetness  Acidity\n",
       "Species                    \n",
       "Arabica        0.0      0.0\n",
       "Robusta       10.0      7.5"
      ]
     },
     "execution_count": 44,
     "metadata": {},
     "output_type": "execute_result"
    }
   ],
   "source": [
    "coffe.groupby('Species')[['Sweetness','Acidity']].min()"
   ]
  },
  {
   "cell_type": "code",
   "execution_count": 45,
   "metadata": {},
   "outputs": [
    {
     "data": {
      "text/html": [
       "<div>\n",
       "<style scoped>\n",
       "    .dataframe tbody tr th:only-of-type {\n",
       "        vertical-align: middle;\n",
       "    }\n",
       "\n",
       "    .dataframe tbody tr th {\n",
       "        vertical-align: top;\n",
       "    }\n",
       "\n",
       "    .dataframe thead th {\n",
       "        text-align: right;\n",
       "    }\n",
       "</style>\n",
       "<table border=\"1\" class=\"dataframe\">\n",
       "  <thead>\n",
       "    <tr style=\"text-align: right;\">\n",
       "      <th></th>\n",
       "      <th>Total.Cup.Points</th>\n",
       "    </tr>\n",
       "    <tr>\n",
       "      <th>Country.of.Origin</th>\n",
       "      <th></th>\n",
       "    </tr>\n",
       "  </thead>\n",
       "  <tbody>\n",
       "    <tr>\n",
       "      <th>Papua New Guinea</th>\n",
       "      <td>85.750000</td>\n",
       "    </tr>\n",
       "    <tr>\n",
       "      <th>Ethiopia</th>\n",
       "      <td>85.484091</td>\n",
       "    </tr>\n",
       "    <tr>\n",
       "      <th>Japan</th>\n",
       "      <td>84.670000</td>\n",
       "    </tr>\n",
       "    <tr>\n",
       "      <th>United States</th>\n",
       "      <td>84.433000</td>\n",
       "    </tr>\n",
       "  </tbody>\n",
       "</table>\n",
       "</div>"
      ],
      "text/plain": [
       "                   Total.Cup.Points\n",
       "Country.of.Origin                  \n",
       "Papua New Guinea          85.750000\n",
       "Ethiopia                  85.484091\n",
       "Japan                     84.670000\n",
       "United States             84.433000"
      ]
     },
     "execution_count": 45,
     "metadata": {},
     "output_type": "execute_result"
    }
   ],
   "source": [
    "coffe[['Total.Cup.Points','Country.of.Origin']].groupby('Country.of.Origin').mean().sort_values(by='Total.Cup.Points',ascending=False).head(4)"
   ]
  },
  {
   "cell_type": "code",
   "execution_count": 46,
   "metadata": {},
   "outputs": [],
   "source": [
    "#coffe['Expiration']=pd.to_datetime(coffe['Expiration'])\n",
    "#coffe['year']=coffe['Expiration'].dt.year\n",
    "#coffe['month']=coffe['Expiration'].dt.month\n",
    "#coffe['day']=coffe['Expiration'].dt.day"
   ]
  },
  {
   "cell_type": "code",
   "execution_count": 47,
   "metadata": {},
   "outputs": [
    {
     "data": {
      "text/html": [
       "<div>\n",
       "<style scoped>\n",
       "    .dataframe tbody tr th:only-of-type {\n",
       "        vertical-align: middle;\n",
       "    }\n",
       "\n",
       "    .dataframe tbody tr th {\n",
       "        vertical-align: top;\n",
       "    }\n",
       "\n",
       "    .dataframe thead th {\n",
       "        text-align: right;\n",
       "    }\n",
       "</style>\n",
       "<table border=\"1\" class=\"dataframe\">\n",
       "  <thead>\n",
       "    <tr style=\"text-align: right;\">\n",
       "      <th></th>\n",
       "      <th>Species</th>\n",
       "      <th>Country.of.Origin</th>\n",
       "    </tr>\n",
       "  </thead>\n",
       "  <tbody>\n",
       "    <tr>\n",
       "      <th>823</th>\n",
       "      <td>Arabica</td>\n",
       "      <td>Zambia</td>\n",
       "    </tr>\n",
       "    <tr>\n",
       "      <th>27</th>\n",
       "      <td>Robusta</td>\n",
       "      <td>Vietnam</td>\n",
       "    </tr>\n",
       "    <tr>\n",
       "      <th>502</th>\n",
       "      <td>Arabica</td>\n",
       "      <td>Vietnam</td>\n",
       "    </tr>\n",
       "    <tr>\n",
       "      <th>790</th>\n",
       "      <td>Arabica</td>\n",
       "      <td>Vietnam</td>\n",
       "    </tr>\n",
       "    <tr>\n",
       "      <th>554</th>\n",
       "      <td>Arabica</td>\n",
       "      <td>Vietnam</td>\n",
       "    </tr>\n",
       "    <tr>\n",
       "      <th>...</th>\n",
       "      <td>...</td>\n",
       "      <td>...</td>\n",
       "    </tr>\n",
       "    <tr>\n",
       "      <th>251</th>\n",
       "      <td>Arabica</td>\n",
       "      <td>Brazil</td>\n",
       "    </tr>\n",
       "    <tr>\n",
       "      <th>902</th>\n",
       "      <td>Arabica</td>\n",
       "      <td>Brazil</td>\n",
       "    </tr>\n",
       "    <tr>\n",
       "      <th>613</th>\n",
       "      <td>Arabica</td>\n",
       "      <td>Brazil</td>\n",
       "    </tr>\n",
       "    <tr>\n",
       "      <th>614</th>\n",
       "      <td>Arabica</td>\n",
       "      <td>Brazil</td>\n",
       "    </tr>\n",
       "    <tr>\n",
       "      <th>1060</th>\n",
       "      <td>Arabica</td>\n",
       "      <td>Brazil</td>\n",
       "    </tr>\n",
       "  </tbody>\n",
       "</table>\n",
       "<p>1339 rows × 2 columns</p>\n",
       "</div>"
      ],
      "text/plain": [
       "      Species Country.of.Origin\n",
       "823   Arabica            Zambia\n",
       "27    Robusta           Vietnam\n",
       "502   Arabica           Vietnam\n",
       "790   Arabica           Vietnam\n",
       "554   Arabica           Vietnam\n",
       "...       ...               ...\n",
       "251   Arabica            Brazil\n",
       "902   Arabica            Brazil\n",
       "613   Arabica            Brazil\n",
       "614   Arabica            Brazil\n",
       "1060  Arabica            Brazil\n",
       "\n",
       "[1339 rows x 2 columns]"
      ]
     },
     "execution_count": 47,
     "metadata": {},
     "output_type": "execute_result"
    }
   ],
   "source": [
    "coffe[['Species','Country.of.Origin']].sort_values(by='Country.of.Origin',ascending=False)\n"
   ]
  },
  {
   "cell_type": "code",
   "execution_count": 48,
   "metadata": {},
   "outputs": [
    {
     "data": {
      "text/plain": [
       "Arabica    1311\n",
       "Robusta      28\n",
       "Name: Species, dtype: int64"
      ]
     },
     "execution_count": 48,
     "metadata": {},
     "output_type": "execute_result"
    }
   ],
   "source": [
    "coffe['Species'].value_counts()"
   ]
  },
  {
   "cell_type": "code",
   "execution_count": 49,
   "metadata": {},
   "outputs": [
    {
     "data": {
      "text/plain": [
       "Species  Processing.Method        \n",
       "Arabica  Washed / Wet                 964\n",
       "         Natural / Dry                251\n",
       "         Semi-washed / Semi-pulped     56\n",
       "         Other                         26\n",
       "         Pulped natural / honey        14\n",
       "Robusta  Washed / Wet                  21\n",
       "         Natural / Dry                  7\n",
       "Name: Processing.Method, dtype: int64"
      ]
     },
     "execution_count": 49,
     "metadata": {},
     "output_type": "execute_result"
    }
   ],
   "source": [
    "coffe.groupby('Species')['Processing.Method'].value_counts()"
   ]
  },
  {
   "cell_type": "code",
   "execution_count": 50,
   "metadata": {},
   "outputs": [],
   "source": [
    "# data visualization"
   ]
  },
  {
   "cell_type": "code",
   "execution_count": 51,
   "metadata": {},
   "outputs": [
    {
     "data": {
      "text/plain": [
       "<matplotlib.axes._subplots.AxesSubplot at 0xb095308>"
      ]
     },
     "execution_count": 51,
     "metadata": {},
     "output_type": "execute_result"
    },
    {
     "data": {
      "image/png": "[encoded data removed]",
      "text/plain": [
       "<Figure size 288x288 with 1 Axes>"
      ]
     },
     "metadata": {},
     "output_type": "display_data"
    }
   ],
   "source": [
    "sns.set(rc={'figure.figsize':(4,4)})\n",
    "sns.countplot(data=coffe,x='Species',color='gold')"
   ]
  },
  {
   "cell_type": "code",
   "execution_count": 52,
   "metadata": {},
   "outputs": [
    {
     "data": {
      "text/plain": [
       "<matplotlib.axes._subplots.AxesSubplot at 0xb2022c8>"
      ]
     },
     "execution_count": 52,
     "metadata": {},
     "output_type": "execute_result"
    },
    {
     "data": {
      "image/png": "[encoded data removed]",
      "text/plain": [
       "<Figure size 360x360 with 1 Axes>"
      ]
     },
     "metadata": {},
     "output_type": "display_data"
    }
   ],
   "source": [
    "sns.set(rc={'figure.figsize':(5,5)})\n",
    "sns.histplot(coffe['Aroma'])"
   ]
  },
  {
   "cell_type": "code",
   "execution_count": 53,
   "metadata": {},
   "outputs": [
    {
     "data": {
      "text/plain": [
       "<matplotlib.axes._subplots.AxesSubplot at 0xb6b5188>"
      ]
     },
     "execution_count": 53,
     "metadata": {},
     "output_type": "execute_result"
    },
    {
     "data": {
      "image/png": "[encoded data removed]",
      "text/plain": [
       "<Figure size 360x360 with 1 Axes>"
      ]
     },
     "metadata": {},
     "output_type": "display_data"
    }
   ],
   "source": [
    "sns.histplot(coffe['Sweetness'])"
   ]
  },
  {
   "cell_type": "code",
   "execution_count": 54,
   "metadata": {},
   "outputs": [
    {
     "data": {
      "text/plain": [
       "<matplotlib.axes._subplots.AxesSubplot at 0xb711048>"
      ]
     },
     "execution_count": 54,
     "metadata": {},
     "output_type": "execute_result"
    },
    {
     "data": {
      "image/png": "[encoded data removed]",
      "text/plain": [
       "<Figure size 360x360 with 1 Axes>"
      ]
     },
     "metadata": {},
     "output_type": "display_data"
    }
   ],
   "source": [
    "sns.histplot(coffe['Acidity'])"
   ]
  },
  {
   "cell_type": "code",
   "execution_count": 55,
   "metadata": {},
   "outputs": [
    {
     "data": {
      "image/png": "[encoded data removed]",
      "text/plain": [
       "<Figure size 1440x1440 with 1 Axes>"
      ]
     },
     "metadata": {},
     "output_type": "display_data"
    }
   ],
   "source": [
    "sns.set(rc={'figure.figsize':(20,20)})\n",
    "sns.countplot(x = 'Country.of.Origin',data =coffe)\n",
    "plt.xticks(rotation = 80)\n",
    "plt.show()"
   ]
  },
  {
   "cell_type": "code",
   "execution_count": 56,
   "metadata": {},
   "outputs": [
    {
     "data": {
      "text/plain": [
       "<matplotlib.axes._subplots.AxesSubplot at 0xb2695c8>"
      ]
     },
     "execution_count": 56,
     "metadata": {},
     "output_type": "execute_result"
    },
    {
     "data": {
      "image/png": "[encoded data removed]",
      "text/plain": [
       "<Figure size 360x360 with 1 Axes>"
      ]
     },
     "metadata": {},
     "output_type": "display_data"
    }
   ],
   "source": [
    "sns.set(rc={'figure.figsize':(5,5)})\n",
    "coffe['Processing.Method'].value_counts().plot(kind = 'bar')"
   ]
  },
  {
   "cell_type": "code",
   "execution_count": 57,
   "metadata": {},
   "outputs": [
    {
     "data": {
      "image/png": "[encoded data removed]",
      "text/plain": [
       "<Figure size 1440x1440 with 1 Axes>"
      ]
     },
     "metadata": {},
     "output_type": "display_data"
    }
   ],
   "source": [
    "sns.set(rc={'figure.figsize':(20,20)})\n",
    "sns.countplot(data=coffe,x='Harvest.Year')\n",
    "plt.xticks(rotation = 80);"
   ]
  },
  {
   "cell_type": "code",
   "execution_count": 58,
   "metadata": {},
   "outputs": [
    {
     "data": {
      "text/plain": [
       "<matplotlib.axes._subplots.AxesSubplot at 0xc132208>"
      ]
     },
     "execution_count": 58,
     "metadata": {},
     "output_type": "execute_result"
    },
    {
     "data": {
      "image/png": "[encoded data removed]",
      "text/plain": [
       "<Figure size 288x288 with 1 Axes>"
      ]
     },
     "metadata": {},
     "output_type": "display_data"
    }
   ],
   "source": [
    "sns.set(rc={'figure.figsize':(4,4)})\n",
    "sns.scatterplot(data=coffe,x='Aroma',y='Sweetness')"
   ]
  },
  {
   "cell_type": "code",
   "execution_count": 59,
   "metadata": {},
   "outputs": [
    {
     "data": {
      "text/plain": [
       "<matplotlib.axes._subplots.AxesSubplot at 0xc3975c8>"
      ]
     },
     "execution_count": 59,
     "metadata": {},
     "output_type": "execute_result"
    },
    {
     "data": {
      "image/png": "[encoded data removed]",
      "text/plain": [
       "<Figure size 288x288 with 1 Axes>"
      ]
     },
     "metadata": {},
     "output_type": "display_data"
    }
   ],
   "source": [
    "sns.scatterplot(data=coffe,x='Acidity',y='Moisture')"
   ]
  },
  {
   "cell_type": "code",
   "execution_count": 60,
   "metadata": {},
   "outputs": [
    {
     "data": {
      "image/png": "[encoded data removed]",
      "text/plain": [
       "<Figure size 288x288 with 1 Axes>"
      ]
     },
     "metadata": {},
     "output_type": "display_data"
    }
   ],
   "source": [
    "sns.boxplot(data= coffe, y= \"altitude_mean_meters\")\n",
    "\n",
    "plt.show()"
   ]
  },
  {
   "cell_type": "code",
   "execution_count": 61,
   "metadata": {},
   "outputs": [
    {
     "data": {
      "text/plain": [
       "<matplotlib.axes._subplots.AxesSubplot at 0xc64f488>"
      ]
     },
     "execution_count": 61,
     "metadata": {},
     "output_type": "execute_result"
    },
    {
     "data": {
      "image/png": "[encoded data removed]",
      "text/plain": [
       "<Figure size 288x288 with 1 Axes>"
      ]
     },
     "metadata": {},
     "output_type": "display_data"
    }
   ],
   "source": [
    "sns.scatterplot(data=coffe, x=\"Category.One.Defects\", y = \"Category.Two.Defects\", color=\"skyblue\")"
   ]
  },
  {
   "cell_type": "code",
   "execution_count": 62,
   "metadata": {},
   "outputs": [
    {
     "data": {
      "text/plain": [
       "<matplotlib.axes._subplots.AxesSubplot at 0xc6c3188>"
      ]
     },
     "execution_count": 62,
     "metadata": {},
     "output_type": "execute_result"
    },
    {
     "data": {
      "image/png": "[encoded data removed]",
      "text/plain": [
       "<Figure size 288x288 with 1 Axes>"
      ]
     },
     "metadata": {},
     "output_type": "display_data"
    }
   ],
   "source": [
    "sns.boxplot(data=coffe,x='Species',y=\"Category.One.Defects\")"
   ]
  },
  {
   "cell_type": "code",
   "execution_count": 63,
   "metadata": {},
   "outputs": [
    {
     "data": {
      "text/plain": [
       "<matplotlib.axes._subplots.AxesSubplot at 0xc6eb288>"
      ]
     },
     "execution_count": 63,
     "metadata": {},
     "output_type": "execute_result"
    },
    {
     "data": {
      "image/png": "[encoded data removed]",
      "text/plain": [
       "<Figure size 288x288 with 1 Axes>"
      ]
     },
     "metadata": {},
     "output_type": "display_data"
    }
   ],
   "source": [
    "sns.boxplot(data=coffe,x='Species',y=\"Category.Two.Defects\")"
   ]
  },
  {
   "cell_type": "code",
   "execution_count": 64,
   "metadata": {},
   "outputs": [],
   "source": [
    "#sns.catplot(data=coffe, kind=\"violin\", x=\"Company\", y=\"Number.of.Bags\" ,split=True)"
   ]
  },
  {
   "cell_type": "code",
   "execution_count": 65,
   "metadata": {},
   "outputs": [],
   "source": [
    "# convert species to numeric\n",
    "def species_numeric(x):\n",
    "    if x == 'Arabica':\n",
    "        return 1\n",
    "    if x == 'Robusta':\n",
    "        return 0\n",
    "coffe['Species_numeric'] = coffe['Species'].apply(species_numeric)"
   ]
  },
  {
   "cell_type": "code",
   "execution_count": 66,
   "metadata": {},
   "outputs": [
    {
     "data": {
      "text/plain": [
       "<matplotlib.axes._subplots.AxesSubplot at 0xc75ae48>"
      ]
     },
     "execution_count": 66,
     "metadata": {},
     "output_type": "execute_result"
    },
    {
     "data": {
      "image/png": "[encoded data removed]",
      "text/plain": [
       "<Figure size 288x288 with 1 Axes>"
      ]
     },
     "metadata": {},
     "output_type": "display_data"
    }
   ],
   "source": [
    "sns.set(rc={'figure.figsize':(4,4)})\n",
    "sns.scatterplot(data=coffe,x='Species_numeric',y='Moisture')"
   ]
  },
  {
   "cell_type": "code",
   "execution_count": 67,
   "metadata": {},
   "outputs": [
    {
     "data": {
      "text/plain": [
       "<matplotlib.axes._subplots.AxesSubplot at 0xc802608>"
      ]
     },
     "execution_count": 67,
     "metadata": {},
     "output_type": "execute_result"
    },
    {
     "data": {
      "image/png": "[encoded data removed]",
      "text/plain": [
       "<Figure size 288x288 with 1 Axes>"
      ]
     },
     "metadata": {},
     "output_type": "display_data"
    }
   ],
   "source": [
    "sns.scatterplot(data=coffe,x='Species_numeric',y='Sweetness')"
   ]
  },
  {
   "cell_type": "code",
   "execution_count": 68,
   "metadata": {},
   "outputs": [],
   "source": [
    "def bag(x):\n",
    "    return x.split(' ')[0]\n",
    "coffe['bag_without_kg']=coffe['Bag.Weight'].apply(bag)"
   ]
  },
  {
   "cell_type": "code",
   "execution_count": 69,
   "metadata": {},
   "outputs": [
    {
     "data": {
      "text/plain": [
       "dtype('int64')"
      ]
     },
     "execution_count": 69,
     "metadata": {},
     "output_type": "execute_result"
    }
   ],
   "source": [
    "coffe['bag_without_kg'] = pd.to_numeric(coffe['bag_without_kg'], errors='coerce')\n",
    "coffe['bag_without_kg'].dtype"
   ]
  },
  {
   "cell_type": "code",
   "execution_count": 70,
   "metadata": {},
   "outputs": [
    {
     "data": {
      "text/plain": [
       "0     60\n",
       "1     60\n",
       "2      1\n",
       "3     60\n",
       "4     60\n",
       "      ..\n",
       "23     2\n",
       "24     2\n",
       "25     1\n",
       "26     5\n",
       "27     5\n",
       "Name: bag_without_kg, Length: 1339, dtype: int64"
      ]
     },
     "execution_count": 70,
     "metadata": {},
     "output_type": "execute_result"
    }
   ],
   "source": [
    "coffe['bag_without_kg']"
   ]
  },
  {
   "cell_type": "code",
   "execution_count": 71,
   "metadata": {},
   "outputs": [
    {
     "data": {
      "image/png": "[encoded data removed]",
      "text/plain": [
       "<Figure size 1440x1440 with 1 Axes>"
      ]
     },
     "metadata": {},
     "output_type": "display_data"
    }
   ],
   "source": [
    "sns.set(rc={'figure.figsize':(20,20)})\n",
    "sns.countplot(x = 'bag_without_kg',data =coffe)\n",
    "plt.show()"
   ]
  },
  {
   "cell_type": "code",
   "execution_count": 72,
   "metadata": {},
   "outputs": [
    {
     "data": {
      "text/plain": [
       "<seaborn.axisgrid.FacetGrid at 0xc80c588>"
      ]
     },
     "execution_count": 72,
     "metadata": {},
     "output_type": "execute_result"
    },
    {
     "data": {
      "image/png": "[encoded data removed]",
      "text/plain": [
       "<Figure size 360x360 with 1 Axes>"
      ]
     },
     "metadata": {},
     "output_type": "display_data"
    }
   ],
   "source": [
    "f = coffe.groupby('bag_without_kg').sum()\n",
    "sns.relplot(x='Species_numeric', y='bag_without_kg', data = f)"
   ]
  },
  {
   "cell_type": "code",
   "execution_count": 73,
   "metadata": {},
   "outputs": [
    {
     "data": {
      "text/plain": [
       "<matplotlib.axes._subplots.AxesSubplot at 0xc902ec8>"
      ]
     },
     "execution_count": 73,
     "metadata": {},
     "output_type": "execute_result"
    },
    {
     "data": {
      "image/png": "[encoded data removed]",
      "text/plain": [
       "<Figure size 504x504 with 1 Axes>"
      ]
     },
     "metadata": {},
     "output_type": "display_data"
    }
   ],
   "source": [
    "sns.set(rc={'figure.figsize':(7,7)})\n",
    "sns.scatterplot(data =coffe, x = 'Category.One.Defects', y= 'Category.Two.Defects', hue  ='Species')"
   ]
  },
  {
   "cell_type": "code",
   "execution_count": 74,
   "metadata": {},
   "outputs": [
    {
     "data": {
      "text/plain": [
       "<matplotlib.axes._subplots.AxesSubplot at 0xc40e4c8>"
      ]
     },
     "execution_count": 74,
     "metadata": {},
     "output_type": "execute_result"
    },
    {
     "data": {
      "image/png": "[encoded data removed]",
      "text/plain": [
       "<Figure size 504x504 with 1 Axes>"
      ]
     },
     "metadata": {},
     "output_type": "display_data"
    }
   ],
   "source": [
    "coffe['Color'].value_counts().plot(kind='bar',color='brown')"
   ]
  }
 ],
 "metadata": {
  "kernelspec": {
   "display_name": "Python 3",
   "language": "python",
   "name": "python3"
  },
  "language_info": {
   "codemirror_mode": {
    "name": "ipython",
    "version": 3
   },
   "file_extension": ".py",
   "mimetype": "text/x-python",
   "name": "python",
   "nbconvert_exporter": "python",
   "pygments_lexer": "ipython3",
   "version": "3.7.6"
  }
 },
 "nbformat": 4,
 "nbformat_minor": 4
}
